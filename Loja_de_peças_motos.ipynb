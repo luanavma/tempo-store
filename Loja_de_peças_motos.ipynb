{
  "cells": [
    {
      "cell_type": "markdown",
      "metadata": {
        "id": "view-in-github",
        "colab_type": "text"
      },
      "source": [
        "<a href=\"https://colab.research.google.com/github/luanavma/tempo-store/blob/main/Loja_de_pe%C3%A7as_motos.ipynb\" target=\"_parent\"><img src=\"https://colab.research.google.com/assets/colab-badge.svg\" alt=\"Open In Colab\"/></a>"
      ]
    },
    {
      "cell_type": "code",
      "execution_count": null,
      "metadata": {
        "colab": {
          "background_save": true,
          "base_uri": "https://localhost:8080/"
        },
        "id": "U9CJfQtEo8dK",
        "outputId": "48aed14f-9f61-46a3-b04f-40983e961917"
      },
      "outputs": [
        {
          "name": "stdout",
          "output_type": "stream",
          "text": [
            "Bem Vindo ao Controle de Estoque da Bicicletaria da Luana Vieira Machado\n",
            "Você selecionou a opção de CADASTRAR PEÇA\n",
            "Bem Vindo ao Controle de Estoque da Bicicletaria da Luana Vieira Machado\n",
            "Você selecionou a opção de CADASTRAR PEÇA\n",
            "Bem Vindo ao Controle de Estoque da Bicicletaria da Luana Vieira Machado\n",
            "Você selecionou a opção de CADASTRAR PEÇA\n",
            "Bem Vindo ao Controle de Estoque da Bicicletaria da Luana Vieira Machado\n",
            "Bem Vindo ao Controle de Estoque da Bicicletaria da Luana Vieira Machado\n",
            "Você selecionou a opção CONSULTAR PEÇAS\n",
            "Você selecionou a opção CONSULTAR TODOS\n",
            "codigo : 1\n",
            "nome : kit\n",
            "fabricante : shimano\n",
            "valor : 300\n",
            "codigo : 2\n",
            "nome : pedivela\n",
            "fabricante : shimano\n",
            "valor : 60\n",
            "Você selecionou a opção CONSULTAR PEÇAS\n"
          ]
        }
      ],
      "source": [
        "listaPecas = []\n",
        "#----------- COMEÇO cadastrarPeca ------------#\n",
        "def cadastrarPeca(codigo):\n",
        "  print('Você selecionou a opção de CADASTRAR PEÇA')\n",
        "  nome = input('Por favor, entre com o NOME da peça: {}' .format(codigo))\n",
        "  fabricante = input('Por favor, entre com o FABRICANTE da peça:')\n",
        "  valor = input('Por favor, entre com o VALOR (R$) da peça:')\n",
        "  dicionarioPeca = {'codigo': codigo,\n",
        "                    'nome': nome,\n",
        "                    'fabricante': fabricante,\n",
        "                    'valor': valor}\n",
        "  listaPecas.append(dicionarioPeca.copy()) #função que acrescenta as peças na lista\n",
        "\n",
        "#----------- FIM cadastrarPeca ------------#\n",
        "\n",
        "\n",
        "#----------- COMEÇO consultarPeca ------------#\n",
        "def consultarPeca():\n",
        "  while True:\n",
        "      try:\n",
        "        print('Você selecionou a opção CONSULTAR PEÇAS')\n",
        "        opConsultar = int(input('Escolha a opção desejada:\\n1- Consultar todas as peças\\n2- Consultar peças por código\\n3- Consultar peças por fabricante\\n4- Retornar'))\n",
        "        if opConsultar == 1:\n",
        "          print('Você selecionou a opção CONSULTAR TODOS')\n",
        "          for peca in listaPecas:\n",
        "            for key, value in peca.items(): #selecionar cada dicionario da minha lista\n",
        "              print('{} : {}' .format(key, value)) #selecionar cada conjunto chave : valor do dicionario\n",
        "        elif opConsultar == 2:\n",
        "          print('Você selecionou a opção CONSULTAR POR CÓDIGO')  \n",
        "          entrada = int(input('Digite o CÓDIGO desejado'))\n",
        "          for peca in listaPecas:\n",
        "             for key, value in peca.items():\n",
        "              if(peca['codigo'] == entrada):\n",
        "                print('{} : {}' .format(key, value))\n",
        "        elif opConsultar == 3:\n",
        "          print('Você selecionou a opção CONSULTAR POR FABRICANTE')\n",
        "          entrada = input('Digite o FABRICANTE desejado')\n",
        "          for peca in listaPecas:\n",
        "             for key, value in peca.items():\n",
        "               if(peca['fabricante'] == entrada): #consulta o dicionario e verifica se o valor inserido é o mesmo cadastrado\n",
        "                print('{} : {}' .format(key, value))\n",
        "        elif opConsultar == 4:  \n",
        "          return\n",
        "        else:\n",
        "          print('Código inválido')\n",
        "          continue   \n",
        "      except ValueError:\n",
        "        print('Pare de digitar valores não inteiros') \n",
        "#----------- FIM consultarPeca ------------#\n",
        "\n",
        "\n",
        "#----------- COMEÇO removerPeca ------------#\n",
        "def removerPeca():\n",
        "  entrada = int(input('Digite o código da peça que deseja remover'))\n",
        "  for peca in listaPecas:\n",
        "      if(peca['codigo'] == entrada):\n",
        "        listaPecas.remove(peca) \n",
        "#----------- FIM removerPeca ------------#\n",
        "\n",
        "\n",
        "#----------- COMEÇO MAIN ------------#\n",
        "registrodePeca = 0\n",
        "while True:\n",
        "  try:\n",
        "    print('Bem Vindo ao Controle de Estoque da Bicicletaria da Luana Vieira Machado')\n",
        "    opcao = int (input('Escolha a opção desejada:\\n1- Cadastrar Peças\\n2- Consultar Peças\\n3- Remover Peças\\n4- Sair'))\n",
        "    if opcao == 1:\n",
        "      registrodePeca = registrodePeca + 1 #vai acrescentando uma codificação crescente\n",
        "      cadastrarPeca(registrodePeca) \n",
        "    elif opcao == 2:\n",
        "      consultarPeca()\n",
        "    elif opcao == 3:\n",
        "      removerPeca()\n",
        "    elif opcao == 4:\n",
        "      print('Obrigado e volte sempre!')\n",
        "      break \n",
        "    else:\n",
        "      print('Código inválido')\n",
        "      continue\n",
        "  except ValueError: \n",
        "    print('Pare de digitar valores não inteiros')\n",
        "  #----------- FIM MAIN ------------#"
      ]
    }
  ],
  "metadata": {
    "colab": {
      "collapsed_sections": [],
      "name": "Loja de peças motos",
      "provenance": [],
      "authorship_tag": "ABX9TyNrpMMgAvAMxt/GxOrcms0q",
      "include_colab_link": true
    },
    "kernelspec": {
      "display_name": "Python 3",
      "name": "python3"
    },
    "language_info": {
      "name": "python"
    }
  },
  "nbformat": 4,
  "nbformat_minor": 0
}